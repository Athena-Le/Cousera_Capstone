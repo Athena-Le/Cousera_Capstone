{
 "cells": [
  {
   "cell_type": "markdown",
   "id": "317ae3a9-d698-4779-8692-98bc8629a236",
   "metadata": {},
   "source": [
    "### Coursera Capstone Project\n",
    "#### THU LE\n",
    "This notebook includes data analysis and machine learning techniques using Python for Capstone Project\n"
   ]
  },
  {
   "cell_type": "code",
   "execution_count": 1,
   "id": "5666b223-8f29-4505-886b-ff1ad289a3ca",
   "metadata": {},
   "outputs": [],
   "source": [
    "\n",
    "import pandas as pd\n",
    "import numpy as np\n"
   ]
  },
  {
   "cell_type": "code",
   "execution_count": 3,
   "id": "ed6dde58-b39b-41c3-8756-9aa6686e55a8",
   "metadata": {},
   "outputs": [
    {
     "name": "stdout",
     "output_type": "stream",
     "text": [
      "Hello Capstone Project Course!\n"
     ]
    }
   ],
   "source": [
    "print('Hello Capstone Project Course!')"
   ]
  },
  {
   "cell_type": "code",
   "execution_count": null,
   "id": "683f4c06-d4d4-4d48-a128-64cac942ab2a",
   "metadata": {},
   "outputs": [],
   "source": []
  }
 ],
 "metadata": {
  "kernelspec": {
   "display_name": "Python 3",
   "language": "python",
   "name": "python3"
  },
  "language_info": {
   "codemirror_mode": {
    "name": "ipython",
    "version": 3
   },
   "file_extension": ".py",
   "mimetype": "text/x-python",
   "name": "python",
   "nbconvert_exporter": "python",
   "pygments_lexer": "ipython3",
   "version": "3.7.6"
  },
  "toc-showtags": true
 },
 "nbformat": 4,
 "nbformat_minor": 5
}
